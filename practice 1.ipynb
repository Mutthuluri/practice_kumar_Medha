{
 "cells": [
  {
   "cell_type": "code",
   "execution_count": 1,
   "id": "initial_id",
   "metadata": {
    "collapsed": true,
    "ExecuteTime": {
     "end_time": "2024-02-17T16:40:19.266626Z",
     "start_time": "2024-02-17T16:40:18.494495Z"
    }
   },
   "outputs": [],
   "source": [
    "import numpy as np\n",
    "\n",
    "list=[1,2,3,4]\n",
    "hi_arr=np.array(list)\n"
   ]
  },
  {
   "cell_type": "code",
   "outputs": [
    {
     "name": "stdout",
     "output_type": "stream",
     "text": [
      "[1 2 3 4]\n"
     ]
    }
   ],
   "source": [
    "print(hi_arr)"
   ],
   "metadata": {
    "collapsed": false,
    "ExecuteTime": {
     "end_time": "2024-02-17T16:40:35.060346Z",
     "start_time": "2024-02-17T16:40:35.054803Z"
    }
   },
   "id": "efd6f87c81ddc5a5",
   "execution_count": 3
  },
  {
   "cell_type": "code",
   "outputs": [
    {
     "data": {
      "text/plain": "numpy.ndarray"
     },
     "execution_count": 4,
     "metadata": {},
     "output_type": "execute_result"
    }
   ],
   "source": [
    "type(hi_arr)"
   ],
   "metadata": {
    "collapsed": false,
    "ExecuteTime": {
     "end_time": "2024-02-17T16:41:06.861832Z",
     "start_time": "2024-02-17T16:41:06.851809Z"
    }
   },
   "id": "8483f5695981b243",
   "execution_count": 4
  },
  {
   "cell_type": "code",
   "outputs": [
    {
     "name": "stdout",
     "output_type": "stream",
     "text": [
      "[[1 2 3 4]\n",
      " [2 3 4 5]\n",
      " [1 2 3 4]]\n"
     ]
    }
   ],
   "source": [
    "list_1=[1,2,3,4]\n",
    "list_2=[2,3,4,5]\n",
    "list_3=[1,2,3,4]\n",
    "hi_arrs=np.array([list_1,list_2,list_3])\n",
    "print(hi_arrs)"
   ],
   "metadata": {
    "collapsed": false,
    "ExecuteTime": {
     "end_time": "2024-02-17T16:43:25.724239Z",
     "start_time": "2024-02-17T16:43:25.718740Z"
    }
   },
   "id": "d8337e6b1c974cc0",
   "execution_count": 10
  },
  {
   "cell_type": "code",
   "outputs": [
    {
     "data": {
      "text/plain": "numpy.ndarray"
     },
     "execution_count": 11,
     "metadata": {},
     "output_type": "execute_result"
    }
   ],
   "source": [
    "type(hi_arrs)"
   ],
   "metadata": {
    "collapsed": false,
    "ExecuteTime": {
     "end_time": "2024-02-17T16:43:29.589950Z",
     "start_time": "2024-02-17T16:43:29.583326Z"
    }
   },
   "id": "c24d776721425369",
   "execution_count": 11
  },
  {
   "cell_type": "code",
   "outputs": [
    {
     "data": {
      "text/plain": "(3, 4)"
     },
     "execution_count": 12,
     "metadata": {},
     "output_type": "execute_result"
    }
   ],
   "source": [
    "hi_arrs.shape"
   ],
   "metadata": {
    "collapsed": false,
    "ExecuteTime": {
     "end_time": "2024-02-17T16:43:48.099779Z",
     "start_time": "2024-02-17T16:43:48.092158Z"
    }
   },
   "id": "d082658c42a334df",
   "execution_count": 12
  },
  {
   "cell_type": "code",
   "outputs": [
    {
     "data": {
      "text/plain": "array([1, 2, 3, 4])"
     },
     "execution_count": 15,
     "metadata": {},
     "output_type": "execute_result"
    }
   ],
   "source": [
    "#indexing\n",
    "lists=[1,2,3,4]\n",
    "hi_ar=np.array(lists)\n",
    "hi_ar"
   ],
   "metadata": {
    "collapsed": false,
    "ExecuteTime": {
     "end_time": "2024-02-17T16:51:31.168365Z",
     "start_time": "2024-02-17T16:51:31.160054Z"
    }
   },
   "id": "2ee00446be1536f6",
   "execution_count": 15
  },
  {
   "cell_type": "code",
   "outputs": [
    {
     "data": {
      "text/plain": "4"
     },
     "execution_count": 16,
     "metadata": {},
     "output_type": "execute_result"
    }
   ],
   "source": [
    "hi_ar[3]"
   ],
   "metadata": {
    "collapsed": false,
    "ExecuteTime": {
     "end_time": "2024-02-17T16:51:45.480070Z",
     "start_time": "2024-02-17T16:51:45.473141Z"
    }
   },
   "id": "ded6245c220729e9",
   "execution_count": 16
  },
  {
   "cell_type": "code",
   "outputs": [
    {
     "data": {
      "text/plain": "2"
     },
     "execution_count": 18,
     "metadata": {},
     "output_type": "execute_result"
    }
   ],
   "source": [
    "hi_ar[1]\n"
   ],
   "metadata": {
    "collapsed": false,
    "ExecuteTime": {
     "end_time": "2024-02-17T16:52:09.503008Z",
     "start_time": "2024-02-17T16:52:09.496383Z"
    }
   },
   "id": "bc87855e5ef1c34",
   "execution_count": 18
  },
  {
   "cell_type": "code",
   "outputs": [
    {
     "data": {
      "text/plain": "array([[ 1, 23,  3],\n       [ 1,  2,  3],\n       [ 1,  2,  3]])"
     },
     "execution_count": 20,
     "metadata": {},
     "output_type": "execute_result"
    }
   ],
   "source": [
    "ji_li=[1,23,3]\n",
    "ji_li1=[1,2,3]\n",
    "ji_li2=[1,2,3]\n",
    "arr=np.array([ji_li,ji_li1,ji_li2])\n",
    "arr\n"
   ],
   "metadata": {
    "collapsed": false,
    "ExecuteTime": {
     "end_time": "2024-02-17T16:57:23.387531Z",
     "start_time": "2024-02-17T16:57:23.379504Z"
    }
   },
   "id": "4a4ff19b801d23e5",
   "execution_count": 20
  },
  {
   "cell_type": "code",
   "outputs": [
    {
     "data": {
      "text/plain": "array([[1, 2, 3]])"
     },
     "execution_count": 21,
     "metadata": {},
     "output_type": "execute_result"
    }
   ],
   "source": [
    "arr[1:2,0:3]"
   ],
   "metadata": {
    "collapsed": false,
    "ExecuteTime": {
     "end_time": "2024-02-17T16:58:03.287241Z",
     "start_time": "2024-02-17T16:58:03.279632Z"
    }
   },
   "id": "5813a30dea23f386",
   "execution_count": 21
  },
  {
   "cell_type": "code",
   "outputs": [
    {
     "data": {
      "text/plain": "array([[ 1, 23,  3],\n       [ 1,  2,  3],\n       [ 1,  2,  3]])"
     },
     "execution_count": 22,
     "metadata": {},
     "output_type": "execute_result"
    }
   ],
   "source": [
    "arr[:,:]"
   ],
   "metadata": {
    "collapsed": false,
    "ExecuteTime": {
     "end_time": "2024-02-17T16:58:16.264982Z",
     "start_time": "2024-02-17T16:58:16.258045Z"
    }
   },
   "id": "19d6a10b75d2475a",
   "execution_count": 22
  },
  {
   "cell_type": "code",
   "outputs": [
    {
     "data": {
      "text/plain": "array([[1],\n       [1],\n       [1]])"
     },
     "execution_count": 23,
     "metadata": {},
     "output_type": "execute_result"
    }
   ],
   "source": [
    "arr[0:,0:1]"
   ],
   "metadata": {
    "collapsed": false,
    "ExecuteTime": {
     "end_time": "2024-02-17T16:58:33.695253Z",
     "start_time": "2024-02-17T16:58:33.688485Z"
    }
   },
   "id": "b245fcce1c63d17f",
   "execution_count": 23
  },
  {
   "cell_type": "code",
   "outputs": [
    {
     "data": {
      "text/plain": "array([[  1,  23,   3],\n       [  1,   2,   3],\n       [100, 100, 100]])"
     },
     "execution_count": 26,
     "metadata": {},
     "output_type": "execute_result"
    }
   ],
   "source": [],
   "metadata": {
    "collapsed": false,
    "ExecuteTime": {
     "end_time": "2024-02-17T16:59:23.118225Z",
     "start_time": "2024-02-17T16:59:23.110515Z"
    }
   },
   "id": "eac09aa127e3d3e3",
   "execution_count": 26
  },
  {
   "cell_type": "code",
   "outputs": [
    {
     "data": {
      "text/plain": "array([[  1,  23,   3],\n       [200,   2,   3],\n       [100, 100, 100]])"
     },
     "execution_count": 30,
     "metadata": {},
     "output_type": "execute_result"
    }
   ],
   "source": [
    "arr[1:2,0:1]=200\n",
    "arr"
   ],
   "metadata": {
    "collapsed": false,
    "ExecuteTime": {
     "end_time": "2024-02-17T17:03:27.425088Z",
     "start_time": "2024-02-17T17:03:27.418675Z"
    }
   },
   "id": "f04b170509f6ffff",
   "execution_count": 30
  },
  {
   "cell_type": "code",
   "outputs": [
    {
     "data": {
      "text/plain": "array([1, 2])"
     },
     "execution_count": 31,
     "metadata": {},
     "output_type": "execute_result"
    }
   ],
   "source": [
    "val=2\n",
    "arr[arr<3]"
   ],
   "metadata": {
    "collapsed": false,
    "ExecuteTime": {
     "end_time": "2024-02-17T17:03:57.649324Z",
     "start_time": "2024-02-17T17:03:57.597581Z"
    }
   },
   "id": "e2edf185f47a3aa6",
   "execution_count": 31
  },
  {
   "cell_type": "code",
   "outputs": [
    {
     "data": {
      "text/plain": "array([[ 0,  1,  2,  3],\n       [ 4,  5,  6,  7],\n       [ 8,  9, 10, 11],\n       [12, 13, 14, 15],\n       [16, 17, 18, 19]])"
     },
     "execution_count": 33,
     "metadata": {},
     "output_type": "execute_result"
    }
   ],
   "source": [
    "hi=np.arange(0,20).reshape(5,4)\n",
    "hi"
   ],
   "metadata": {
    "collapsed": false,
    "ExecuteTime": {
     "end_time": "2024-02-17T17:05:25.572427Z",
     "start_time": "2024-02-17T17:05:25.564104Z"
    }
   },
   "id": "483a2be7d9c6998d",
   "execution_count": 33
  },
  {
   "cell_type": "code",
   "outputs": [
    {
     "data": {
      "text/plain": "array([[ 0,  1,  2,  3],\n       [ 4,  5,  6,  7],\n       [ 8,  9, 10, 11],\n       [12, 13, 14, 15],\n       [16, 17, 18, 19]])"
     },
     "execution_count": 40,
     "metadata": {},
     "output_type": "execute_result"
    }
   ],
   "source": [
    "hi1=np.arange(0,20).reshape(5,4)\n",
    "hi1"
   ],
   "metadata": {
    "collapsed": false,
    "ExecuteTime": {
     "end_time": "2024-02-17T17:08:25.411956Z",
     "start_time": "2024-02-17T17:08:25.404134Z"
    }
   },
   "id": "51544986c5259bb",
   "execution_count": 40
  },
  {
   "cell_type": "code",
   "outputs": [
    {
     "data": {
      "text/plain": "array([[  0,   1,   4,   9],\n       [ 16,  25,  36,  49],\n       [ 64,  81, 100, 121],\n       [144, 169, 196, 225],\n       [256, 289, 324, 361]])"
     },
     "execution_count": 41,
     "metadata": {},
     "output_type": "execute_result"
    }
   ],
   "source": [
    "hi*hi1"
   ],
   "metadata": {
    "collapsed": false,
    "ExecuteTime": {
     "end_time": "2024-02-17T17:08:27.837055Z",
     "start_time": "2024-02-17T17:08:27.828963Z"
    }
   },
   "id": "9a3aed415976b01d",
   "execution_count": 41
  },
  {
   "cell_type": "code",
   "outputs": [
    {
     "data": {
      "text/plain": "array([[1, 1, 1, 1, 1],\n       [1, 1, 1, 1, 1],\n       [1, 1, 1, 1, 1],\n       [1, 1, 1, 1, 1]])"
     },
     "execution_count": 43,
     "metadata": {},
     "output_type": "execute_result"
    }
   ],
   "source": [
    "np.ones((4,5),dtype=int)"
   ],
   "metadata": {
    "collapsed": false,
    "ExecuteTime": {
     "end_time": "2024-02-17T17:10:25.645473Z",
     "start_time": "2024-02-17T17:10:25.638714Z"
    }
   },
   "id": "f9ced871c7caecea",
   "execution_count": 43
  },
  {
   "cell_type": "code",
   "outputs": [
    {
     "data": {
      "text/plain": "array([[0.38789201, 0.44062862, 0.14473182],\n       [0.32810154, 0.51607918, 0.87508519],\n       [0.15781525, 0.69551716, 0.71703416]])"
     },
     "execution_count": 44,
     "metadata": {},
     "output_type": "execute_result"
    }
   ],
   "source": [
    "np.random.rand(3,3)"
   ],
   "metadata": {
    "collapsed": false,
    "ExecuteTime": {
     "end_time": "2024-02-17T17:11:43.651760Z",
     "start_time": "2024-02-17T17:11:43.641867Z"
    }
   },
   "id": "d9af100d20e57178",
   "execution_count": 44
  },
  {
   "cell_type": "code",
   "outputs": [
    {
     "data": {
      "text/plain": "array([[1, 1, 1, 1],\n       [1, 1, 1, 1],\n       [1, 1, 1, 1],\n       [1, 1, 1, 1],\n       [1, 1, 1, 1]])"
     },
     "execution_count": 46,
     "metadata": {},
     "output_type": "execute_result"
    }
   ],
   "source": [
    "# to make matrix zerors and ones \n",
    "np.ones((5,4),dtype=int)"
   ],
   "metadata": {
    "collapsed": false,
    "ExecuteTime": {
     "end_time": "2024-02-17T17:17:16.615319Z",
     "start_time": "2024-02-17T17:17:16.608136Z"
    }
   },
   "id": "6a7bce73ba18bc23",
   "execution_count": 46
  },
  {
   "cell_type": "code",
   "outputs": [
    {
     "data": {
      "text/plain": "array([[0, 0, 0],\n       [0, 0, 0]])"
     },
     "execution_count": 47,
     "metadata": {},
     "output_type": "execute_result"
    }
   ],
   "source": [
    "np.zeros((2,3),dtype=int)"
   ],
   "metadata": {
    "collapsed": false,
    "ExecuteTime": {
     "end_time": "2024-02-17T17:17:36.041289Z",
     "start_time": "2024-02-17T17:17:36.034458Z"
    }
   },
   "id": "bd94930045cd384d",
   "execution_count": 47
  },
  {
   "cell_type": "code",
   "outputs": [
    {
     "data": {
      "text/plain": "array([[0.99410168, 0.84436051, 0.27099949],\n       [0.3882374 , 0.92883412, 0.4483658 ],\n       [0.7905395 , 0.41339907, 0.54639466]])"
     },
     "execution_count": 48,
     "metadata": {},
     "output_type": "execute_result"
    }
   ],
   "source": [
    "#random values\n",
    "np.random.rand(3,3)"
   ],
   "metadata": {
    "collapsed": false,
    "ExecuteTime": {
     "end_time": "2024-02-17T17:18:20.939443Z",
     "start_time": "2024-02-17T17:18:20.932640Z"
    }
   },
   "id": "b0678489daf9c34e",
   "execution_count": 48
  },
  {
   "cell_type": "code",
   "outputs": [
    {
     "data": {
      "text/plain": "array([[0.69804639, 0.63330681, 0.40751278, 0.47991696],\n       [0.9067565 , 0.07797194, 0.9359412 , 0.42284664],\n       [0.05147269, 0.43495172, 0.04720048, 0.05811614],\n       [0.55521808, 0.18056185, 0.99260937, 0.15269309]])"
     },
     "execution_count": 50,
     "metadata": {},
     "output_type": "execute_result"
    }
   ],
   "source": [
    "np.random.rand(4,4)"
   ],
   "metadata": {
    "collapsed": false,
    "ExecuteTime": {
     "end_time": "2024-02-17T17:19:48.842206Z",
     "start_time": "2024-02-17T17:19:48.833991Z"
    }
   },
   "id": "986192199ac1edcc",
   "execution_count": 50
  },
  {
   "cell_type": "code",
   "outputs": [
    {
     "data": {
      "text/plain": "array([[39, 71],\n       [63, 73],\n       [55, 52],\n       [14, 74]])"
     },
     "execution_count": 51,
     "metadata": {},
     "output_type": "execute_result"
    }
   ],
   "source": [
    "np.random.randint(0,100,8).reshape(4,2)"
   ],
   "metadata": {
    "collapsed": false,
    "ExecuteTime": {
     "end_time": "2024-02-17T17:20:38.205476Z",
     "start_time": "2024-02-17T17:20:38.195894Z"
    }
   },
   "id": "8bbba27ad59f13cc",
   "execution_count": 51
  },
  {
   "cell_type": "code",
   "outputs": [
    {
     "data": {
      "text/plain": "array([1, 2, 3, 4])"
     },
     "execution_count": 53,
     "metadata": {},
     "output_type": "execute_result"
    }
   ],
   "source": [
    "list=[1,2,3,4]\n",
    "arr_1=np.array(list)\n",
    "arr_1"
   ],
   "metadata": {
    "collapsed": false,
    "ExecuteTime": {
     "end_time": "2024-02-17T17:22:38.732148Z",
     "start_time": "2024-02-17T17:22:38.724287Z"
    }
   },
   "id": "e55bba90c1adc4e0",
   "execution_count": 53
  },
  {
   "cell_type": "code",
   "outputs": [
    {
     "data": {
      "text/plain": "numpy.ndarray"
     },
     "execution_count": 54,
     "metadata": {},
     "output_type": "execute_result"
    }
   ],
   "source": [
    "type(arr_1)"
   ],
   "metadata": {
    "collapsed": false,
    "ExecuteTime": {
     "end_time": "2024-02-17T17:22:48.600475Z",
     "start_time": "2024-02-17T17:22:48.593286Z"
    }
   },
   "id": "b4fccc065bfc0be5",
   "execution_count": 54
  },
  {
   "cell_type": "code",
   "outputs": [
    {
     "data": {
      "text/plain": "array([[1, 2, 3, 4],\n       [2, 3, 4, 5],\n       [1, 2, 3, 4]])"
     },
     "execution_count": 55,
     "metadata": {},
     "output_type": "execute_result"
    }
   ],
   "source": [
    "list1=[1,2,3,4]\n",
    "list2=[2,3,4,5]\n",
    "list3=[1,2,3,4]\n",
    "a=np.array([list1,list2,list3])\n",
    "a"
   ],
   "metadata": {
    "collapsed": false,
    "ExecuteTime": {
     "end_time": "2024-02-17T17:24:05.489046Z",
     "start_time": "2024-02-17T17:24:05.480674Z"
    }
   },
   "id": "f25b53ea6b5db92f",
   "execution_count": 55
  },
  {
   "cell_type": "code",
   "outputs": [
    {
     "data": {
      "text/plain": "numpy.ndarray"
     },
     "execution_count": 56,
     "metadata": {},
     "output_type": "execute_result"
    }
   ],
   "source": [
    "type(a)"
   ],
   "metadata": {
    "collapsed": false,
    "ExecuteTime": {
     "end_time": "2024-02-17T17:24:13.114443Z",
     "start_time": "2024-02-17T17:24:13.107605Z"
    }
   },
   "id": "f1827e275c4fb767",
   "execution_count": 56
  },
  {
   "cell_type": "code",
   "outputs": [
    {
     "data": {
      "text/plain": "4"
     },
     "execution_count": 57,
     "metadata": {},
     "output_type": "execute_result"
    }
   ],
   "source": [
    "arr_1[3]"
   ],
   "metadata": {
    "collapsed": false,
    "ExecuteTime": {
     "end_time": "2024-02-17T17:24:36.870034Z",
     "start_time": "2024-02-17T17:24:36.862920Z"
    }
   },
   "id": "8ee1516109ae3515",
   "execution_count": 57
  },
  {
   "cell_type": "code",
   "outputs": [
    {
     "data": {
      "text/plain": "array([[1, 2, 3, 4],\n       [2, 3, 4, 5],\n       [1, 2, 3, 4]])"
     },
     "execution_count": 58,
     "metadata": {},
     "output_type": "execute_result"
    }
   ],
   "source": [
    "a[0:,:]"
   ],
   "metadata": {
    "collapsed": false,
    "ExecuteTime": {
     "end_time": "2024-02-17T17:25:27.763984Z",
     "start_time": "2024-02-17T17:25:27.756256Z"
    }
   },
   "id": "877505d4dec18526",
   "execution_count": 58
  },
  {
   "cell_type": "code",
   "outputs": [
    {
     "data": {
      "text/plain": "array([[2]])"
     },
     "execution_count": 59,
     "metadata": {},
     "output_type": "execute_result"
    }
   ],
   "source": [
    "a[1:2,0:1]"
   ],
   "metadata": {
    "collapsed": false,
    "ExecuteTime": {
     "end_time": "2024-02-17T17:25:56.164610Z",
     "start_time": "2024-02-17T17:25:56.157202Z"
    }
   },
   "id": "ec9f745536a63208",
   "execution_count": 59
  },
  {
   "cell_type": "code",
   "outputs": [
    {
     "data": {
      "text/plain": "(3, 4)"
     },
     "execution_count": 60,
     "metadata": {},
     "output_type": "execute_result"
    }
   ],
   "source": [
    "a.shape"
   ],
   "metadata": {
    "collapsed": false,
    "ExecuteTime": {
     "end_time": "2024-02-17T17:26:26.570260Z",
     "start_time": "2024-02-17T17:26:26.563232Z"
    }
   },
   "id": "60a1458d0b9c556b",
   "execution_count": 60
  },
  {
   "cell_type": "code",
   "outputs": [
    {
     "name": "stdout",
     "output_type": "stream",
     "text": [
      "[[  1   2   3   4]\n",
      " [100   3   4   5]\n",
      " [  1   2   3   4]]\n"
     ]
    }
   ],
   "source": [
    "a[1:2,0:1]=100\n",
    "print(a)"
   ],
   "metadata": {
    "collapsed": false,
    "ExecuteTime": {
     "end_time": "2024-02-17T17:27:51.439409Z",
     "start_time": "2024-02-17T17:27:51.432497Z"
    }
   },
   "id": "568b5b55c57e6c5b",
   "execution_count": 62
  },
  {
   "cell_type": "code",
   "outputs": [
    {
     "name": "stdout",
     "output_type": "stream",
     "text": [
      "[[0 1 2 3 4]\n",
      " [5 6 7 8 9]]\n",
      "[[0 1 2 3 4]\n",
      " [5 6 7 8 9]]\n"
     ]
    }
   ],
   "source": [
    "b=np.arange(0,10).reshape(2,5)\n",
    "c=np.arange(0,10).reshape(2,5)\n",
    "print(b)\n",
    "print(c)\n"
   ],
   "metadata": {
    "collapsed": false,
    "ExecuteTime": {
     "end_time": "2024-02-17T17:31:54.236032Z",
     "start_time": "2024-02-17T17:31:54.229001Z"
    }
   },
   "id": "4b8fcb94cf25d460",
   "execution_count": 67
  },
  {
   "cell_type": "code",
   "outputs": [
    {
     "data": {
      "text/plain": "array([[ 0,  1,  4,  9, 16],\n       [25, 36, 49, 64, 81]])"
     },
     "execution_count": 68,
     "metadata": {},
     "output_type": "execute_result"
    }
   ],
   "source": [
    "b*c"
   ],
   "metadata": {
    "collapsed": false,
    "ExecuteTime": {
     "end_time": "2024-02-17T17:32:02.831495Z",
     "start_time": "2024-02-17T17:32:02.824172Z"
    }
   },
   "id": "4bb08047936cdb69",
   "execution_count": 68
  },
  {
   "cell_type": "code",
   "outputs": [
    {
     "data": {
      "text/plain": "array([[1, 1, 1],\n       [1, 1, 1]])"
     },
     "execution_count": 69,
     "metadata": {},
     "output_type": "execute_result"
    }
   ],
   "source": [
    "np.ones((2,3),dtype=int)"
   ],
   "metadata": {
    "collapsed": false,
    "ExecuteTime": {
     "end_time": "2024-02-17T17:32:58.020238Z",
     "start_time": "2024-02-17T17:32:58.011721Z"
    }
   },
   "id": "ac06b2f49175c9f2",
   "execution_count": 69
  },
  {
   "cell_type": "code",
   "outputs": [
    {
     "data": {
      "text/plain": "array([[0.56818094, 0.90285477, 0.32259247, 0.83391668],\n       [0.5585071 , 0.10587274, 0.25514726, 0.15225557],\n       [0.72919085, 0.12698793, 0.34630566, 0.98441402],\n       [0.58415831, 0.55964896, 0.96600761, 0.20908792]])"
     },
     "execution_count": 70,
     "metadata": {},
     "output_type": "execute_result"
    }
   ],
   "source": [
    "np.random.rand(4,4)"
   ],
   "metadata": {
    "collapsed": false,
    "ExecuteTime": {
     "end_time": "2024-02-17T17:33:18.748916Z",
     "start_time": "2024-02-17T17:33:18.742518Z"
    }
   },
   "id": "5c8406e5d8f72dd6",
   "execution_count": 70
  },
  {
   "cell_type": "code",
   "outputs": [
    {
     "ename": "ValueError",
     "evalue": "cannot reshape array of size 8 into shape (2,3)",
     "output_type": "error",
     "traceback": [
      "\u001B[1;31m---------------------------------------------------------------------------\u001B[0m",
      "\u001B[1;31mValueError\u001B[0m                                Traceback (most recent call last)",
      "Cell \u001B[1;32mIn[75], line 1\u001B[0m\n\u001B[1;32m----> 1\u001B[0m np\u001B[38;5;241m.\u001B[39mrandom\u001B[38;5;241m.\u001B[39mrandint(\u001B[38;5;241m0\u001B[39m,\u001B[38;5;241m10\u001B[39m,\u001B[38;5;241m8\u001B[39m)\u001B[38;5;241m.\u001B[39mreshape(\u001B[38;5;241m2\u001B[39m,\u001B[38;5;241m3\u001B[39m)\n",
      "\u001B[1;31mValueError\u001B[0m: cannot reshape array of size 8 into shape (2,3)"
     ]
    }
   ],
   "source": [
    "np.random.randint(0,10,8).reshape(2,3)"
   ],
   "metadata": {
    "collapsed": false,
    "ExecuteTime": {
     "end_time": "2024-02-17T17:34:53.467335Z",
     "start_time": "2024-02-17T17:34:53.445764Z"
    }
   },
   "id": "4598f2a1f4172ca8",
   "execution_count": 75
  },
  {
   "cell_type": "code",
   "outputs": [
    {
     "data": {
      "text/plain": "array([[0.69617034, 0.65629011, 0.39833647, 0.14635515]])"
     },
     "execution_count": 77,
     "metadata": {},
     "output_type": "execute_result"
    }
   ],
   "source": [
    "np.random.random_sample((1,4))"
   ],
   "metadata": {
    "collapsed": false,
    "ExecuteTime": {
     "end_time": "2024-02-17T17:35:28.949650Z",
     "start_time": "2024-02-17T17:35:28.941395Z"
    }
   },
   "id": "a403d1a130ed149f",
   "execution_count": 77
  },
  {
   "cell_type": "code",
   "outputs": [],
   "source": [],
   "metadata": {
    "collapsed": false
   },
   "id": "57a981e2db827cd3"
  }
 ],
 "metadata": {
  "kernelspec": {
   "display_name": "Python 3",
   "language": "python",
   "name": "python3"
  },
  "language_info": {
   "codemirror_mode": {
    "name": "ipython",
    "version": 2
   },
   "file_extension": ".py",
   "mimetype": "text/x-python",
   "name": "python",
   "nbconvert_exporter": "python",
   "pygments_lexer": "ipython2",
   "version": "2.7.6"
  }
 },
 "nbformat": 4,
 "nbformat_minor": 5
}
